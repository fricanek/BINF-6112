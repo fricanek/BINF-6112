{
 "cells": [
  {
   "cell_type": "markdown",
   "metadata": {},
   "source": [
    "    Name:Lisa\n",
    "Email:fricanek@uncc.edu\n",
    "\n",
    "\n",
    "\n",
    "## Part 1 - Sequence Class\n",
    "\n",
    "Write a Sequence class. In the __init__ method, you should initialized one attribute, a String that represents a DNA Sequence\n",
    "This class should also have the following magic methods we discussed in class yesterday:\n",
    "\n",
    "- __repr__ and __str__\n",
    "- __eq__ and __lt__ (then use the decorator I demonstrated)\n",
    "\n",
    "It is up to you to decide how these should be implemented. For instance, what criteria do you think makes the most sense for saying two sequences are equal to one another? What criteria for one sequence to be considered \"less than\" another?"
   ]
  },
  {
   "cell_type": "code",
   "execution_count": 29,
   "metadata": {},
   "outputs": [],
   "source": [
    "#sequence class goes here\n",
    "from functools import total_ordering\n",
    "@total_ordering\n",
    "\n",
    "class Sequence:\n",
    "    \n",
    "    def __init__(sequence,DNA):\n",
    "        sequence.DNA = DNA\n",
    "    def ATcount (sequence):\n",
    "        A = sequence.DNA.count(\"A\")\n",
    "        T = sequence.DNA.count(\"T\")\n",
    "        return((A + T)/100)\n",
    "    #overriding\n",
    "    # informal conversion to a string\n",
    "    def __str__(sequence):\n",
    "        return sequence.DNA\n",
    "    # formal converstion to a string \n",
    "    def __repr__(sequence):\n",
    "        return f'Sequence ({sequence.DNA})'\n",
    "    \n",
    "    #overriding __eq__ to define criteria \n",
    "    def __eq__(sequence,other):\n",
    "            return sequence.DNA == other.DNA\n",
    "    def __lt__(sequence,other):\n",
    "        return sequence.DNA < other.DNA\n",
    "    def __add__(sequence,other):\n",
    "        return sequence.DNA + other.DNA\n",
    "    def __len__(sequence):\n",
    "         return (len(sequence.DNA))\n",
    "        \n",
    "   "
   ]
  },
  {
   "cell_type": "code",
   "execution_count": 30,
   "metadata": {
    "scrolled": true
   },
   "outputs": [
    {
     "name": "stdout",
     "output_type": "stream",
     "text": [
      "False\n",
      "False\n",
      "True\n",
      "False\n"
     ]
    }
   ],
   "source": [
    "#Use this cell for testing your Sequence class. Show us what tests you ran to confirm your methods worked correctly\n",
    "DNA_Seq1 = Sequence('ATGCT')\n",
    "DNA_Seq2 = Sequence('TAGCT')\n",
    "print(DNA_Seq1 == DNA_Seq2)\n",
    "print(DNA_Seq1 is DNA_Seq2)\n",
    "DNA_Seq3 = Sequence('ATGCC')\n",
    "DNA_Seq4 = Sequence('ATGCC')\n",
    "print(DNA_Seq3 == DNA_Seq4)\n",
    "print(DNA_Seq3 is DNA_Seq4)\n"
   ]
  },
  {
   "cell_type": "code",
   "execution_count": 31,
   "metadata": {
    "scrolled": false
   },
   "outputs": [
    {
     "name": "stdout",
     "output_type": "stream",
     "text": [
      "Sequence (ATGCT)\n",
      "ATGCT\n"
     ]
    },
    {
     "data": {
      "text/plain": [
       "0.03"
      ]
     },
     "execution_count": 31,
     "metadata": {},
     "output_type": "execute_result"
    }
   ],
   "source": [
    "print(repr(DNA_Seq1))\n",
    "\n",
    "print(str(DNA_Seq1))\n",
    "\n",
    "len(DNA_Seq1)\n",
    "Sequence.ATcount(DNA_Seq1)"
   ]
  },
  {
   "cell_type": "markdown",
   "metadata": {},
   "source": [
    "## Part 2 - SequenceRecord Class\n",
    "\n",
    "Write a class called Sequence Record. This class should have two attributes:\n",
    "\n",
    "- A label/title (something that describe the source of the sequence, like the contents of a header line in a FASTA file)\n",
    "- and a Sequence object \n",
    "\n",
    "Your initializer should attempt to confirm that the second attribute is, in fact, a Sequence object. Consider the following code and how it could be applied here\n",
    "\n",
    "```\n",
    ">>> s = \"hello\"\n",
    ">>> type(s) == str\n",
    "True \n",
    "```\n",
    "\n",
    "You should also, at minimum, add a __str__ and __repr__ method."
   ]
  },
  {
   "cell_type": "code",
   "execution_count": 1,
   "metadata": {},
   "outputs": [],
   "source": [
    "# SequenceRecord class goes here\n",
    "class SequenceRecord:\n",
    "    def __init__(sequence,label,Seq_object):\n",
    "        sequence.label = label\n",
    "        sequence.Seq_object = Seq_object\n",
    "    #overriding\n",
    "    # informal conversion to a string\n",
    "    def __str__(sequence):\n",
    "        return sequence.label\n",
    "       \n",
    "    \n",
    "    \n",
    "    # formal converstion to a string \n",
    "    def __repr__(sequence):\n",
    "        return f'SequenceRecord (label: {sequence.label} Seq_object: {sequence.Seq_object})'"
   ]
  },
  {
   "cell_type": "code",
   "execution_count": 2,
   "metadata": {
    "scrolled": true
   },
   "outputs": [
    {
     "name": "stdout",
     "output_type": "stream",
     "text": [
      "SequenceRecord (label: DNA_Seq1 Seq_object: ATGCT)\n",
      "DNA_Seq1\n"
     ]
    }
   ],
   "source": [
    "# Use this cell to test your SequenceRecord class\n",
    "DNA_Seq1 = SequenceRecord('DNA_Seq1','ATGCT')\n",
    "print(repr(DNA_Seq1))\n",
    "print(str(DNA_Seq1))"
   ]
  },
  {
   "cell_type": "markdown",
   "metadata": {},
   "source": [
    "## Part 3 - Parsing using your new classes\n",
    "\n",
    "Build yourself a test FASTA file with approx 3 simple records. Read in this file, and use it contents to create a SequenceRecords for each record in the file. \n",
    "\n",
    "- Please note this process is identical to what we did previously with FASTA parsing, only before we used a dictionary where the key stored the header info, and the value stored the sequence info. Now, our SequenceRecord object holds BOTH pieces.\n",
    "\n",
    "Be sure to confirm your SequenceRecord objects hold the correct information.\n",
    "\n",
    "For extra credit, write your parser as a generator."
   ]
  },
  {
   "cell_type": "code",
   "execution_count": 3,
   "metadata": {},
   "outputs": [],
   "source": [
    "with open('/Users/lisaricanek/Downloads/Fasta2.fa') as fasta:\n",
    "\n",
    "    header =\"\"\n",
    "    sequence = \"\"\n",
    "    SequenceRecord(header,sequence)\n",
    "    \n",
    "    \n",
    "    sequencelist = []\n",
    "    headerlist = []\n",
    "       \n",
    "    for line in fasta:\n",
    "\n",
    "        line = line.strip()\n",
    "            \n",
    "            #check to see if the line is a header \n",
    "        if line.startswith(\">\"):\n",
    "            \n",
    "       \n",
    "            header = line.lstrip(\">\")\n",
    "            \n",
    "            headerlist.append(header)\n",
    "            if len(headerlist) > 1:\n",
    "                sequencelist.append(sequence)\n",
    "                \n",
    "            \n",
    "\n",
    "        else:\n",
    "                #line is a sequence line\n",
    "            sequence += line.strip()\n",
    "            \n",
    "\n",
    "\n",
    "         \n",
    "    sequencelist.append(sequence)\n",
    "\n",
    "           \n",
    "                \n",
    "        \n"
   ]
  },
  {
   "cell_type": "code",
   "execution_count": 4,
   "metadata": {},
   "outputs": [
    {
     "data": {
      "text/plain": [
       "SequenceRecord (label: ['s1', 's2', 's3'] Seq_object: ['ATGTATGTGTGTCAACC', 'ATGTATGTGTGTCAACCATGTGTGCGCGCATA', 'ATGTATGTGTGTCAACCATGTGTGCGCGCATAGAGATGTCGTACAGC'])"
      ]
     },
     "execution_count": 4,
     "metadata": {},
     "output_type": "execute_result"
    }
   ],
   "source": [
    "SequenceRecord(headerlist,sequencelist)\n"
   ]
  },
  {
   "cell_type": "code",
   "execution_count": 5,
   "metadata": {},
   "outputs": [],
   "source": [
    "class Sequences:\n",
    "      def __init__(self,sequence):\n",
    "        self.sequence = sequence\n",
    "      def __str__(self):\n",
    "        return self.sequence\n",
    "    # formal converstion to a string \n",
    "      def __repr__(self):\n",
    "        return f'Sequence: ({self.sequence})'\n",
    "      def isValidSeq(sequence):\n",
    "            \n",
    "            if all(x.isalpha() or x.isspace() for x in sequence):\n",
    "            \n",
    "                print(\"This sequence is valid\")\n",
    "            else:\n",
    "                print(\"This sequence is invalid\")"
   ]
  },
  {
   "cell_type": "code",
   "execution_count": 25,
   "metadata": {},
   "outputs": [],
   "source": [
    "class DNASeq(Sequences):\n",
    "    def __init__(self,sequence):\n",
    "        self.sequence = sequence\n",
    "      \n",
    "      \n",
    "    def __str__(self):\n",
    "        return self.sequence\n",
    "    # formal converstion to a string \n",
    "    def __repr__(self):\n",
    "        return f'Sequence: ({self.sequence}'\n",
    "    def __len__(self):\n",
    "         return (len(self.sequence))\n",
    "    #method to find AT count\n",
    "    def ATcount (sequence):\n",
    "\n",
    "\n",
    "        return((sequence.count(\"A\") +sequence.count(\"T\") )/(len(sequence))*100)\n",
    "     #method to translate DNA to Protein\n",
    "    def translate(seq):\n",
    "        \n",
    "\n",
    "        table = {\n",
    "            'ATA':'I', 'ATC':'I', 'ATT':'I', 'ATG':'M',\n",
    "            'ACA':'T', 'ACC':'T', 'ACG':'T', 'ACT':'T',\n",
    "            'AAC':'N', 'AAT':'N', 'AAA':'K', 'AAG':'K',\n",
    "            'AGC':'S', 'AGT':'S', 'AGA':'R', 'AGG':'R',\n",
    "            'CTA':'L', 'CTC':'L', 'CTG':'L', 'CTT':'L',\n",
    "            'CCA':'P', 'CCC':'P', 'CCG':'P', 'CCT':'P',\n",
    "            'CAC':'H', 'CAT':'H', 'CAA':'Q', 'CAG':'Q',\n",
    "            'CGA':'R', 'CGC':'R', 'CGG':'R', 'CGT':'R',\n",
    "            'GTA':'V', 'GTC':'V', 'GTG':'V', 'GTT':'V',\n",
    "            'GCA':'A', 'GCC':'A', 'GCG':'A', 'GCT':'A',\n",
    "            'GAC':'D', 'GAT':'D', 'GAA':'E', 'GAG':'E',\n",
    "            'GGA':'G', 'GGC':'G', 'GGG':'G', 'GGT':'G',\n",
    "            'TCA':'S', 'TCC':'S', 'TCG':'S', 'TCT':'S',\n",
    "            'TTC':'F', 'TTT':'F', 'TTA':'L', 'TTG':'L',\n",
    "            'TAC':'Y', 'TAT':'Y', 'TAA':'*', 'TAG':'*',\n",
    "            'TGC':'C', 'TGT':'C', 'TGA':'*', 'TGG':'W',\n",
    "            }\n",
    "        protein =\"\"\n",
    "        if len(seq)%3 == 0:\n",
    "            for i in range(0, len(seq), 3):\n",
    "                codon = seq.sequence[i:i + 3]\n",
    "                protein+= table[codon]\n",
    "        return protein\n",
    "        \n",
    "   "
   ]
  },
  {
   "cell_type": "code",
   "execution_count": 26,
   "metadata": {},
   "outputs": [
    {
     "data": {
      "text/plain": [
       "'M'"
      ]
     },
     "execution_count": 26,
     "metadata": {},
     "output_type": "execute_result"
    }
   ],
   "source": [
    "DNA_Seq1 = DNASeq('ATG')\n",
    "DNA_Seq1.translate()"
   ]
  },
  {
   "cell_type": "code",
   "execution_count": 15,
   "metadata": {},
   "outputs": [],
   "source": [
    "class proteinSeq:\n",
    "    def __init__(self,proSeq):\n",
    "        self.proSeq = ProSeq\n",
    "    def __str__(self):\n",
    "        return self.proSeq \n",
    "    # formal converstion to a string \n",
    "    def __repr__(self):\n",
    "        return f'Sequence: ({self.proSeq }'\n",
    "        \n",
    "#in this class the protein sequence will show its folding sequences "
   ]
  },
  {
   "cell_type": "code",
   "execution_count": null,
   "metadata": {},
   "outputs": [],
   "source": []
  }
 ],
 "metadata": {
  "kernelspec": {
   "display_name": "Python 3 (ipykernel)",
   "language": "python",
   "name": "python3"
  },
  "language_info": {
   "codemirror_mode": {
    "name": "ipython",
    "version": 3
   },
   "file_extension": ".py",
   "mimetype": "text/x-python",
   "name": "python",
   "nbconvert_exporter": "python",
   "pygments_lexer": "ipython3",
   "version": "3.9.7"
  }
 },
 "nbformat": 4,
 "nbformat_minor": 4
}
