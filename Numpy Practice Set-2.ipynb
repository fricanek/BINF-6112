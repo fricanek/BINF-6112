{
 "cells": [
  {
   "cell_type": "markdown",
   "metadata": {},
   "source": [
    "Lisa Ricanek \n",
    "\n",
    "Subtract the 1D Array *arr2* from the 2D array *arr1*, such that each item of *arr2* subtracts from respective row of *arr1*\n",
    "\n",
    "Ex\n",
    "\n",
    "arr1 = `[[x1, x2 , x3], [y1, y2, y3], [z1,z2,z3]]`\n",
    "\n",
    "arr2 = `[x,y,z]`\n",
    "\n",
    "Result `[ [ x1-x, x2-x, x3-x],` etc"
   ]
  },
  {
   "cell_type": "code",
   "execution_count": 25,
   "metadata": {
    "scrolled": true
   },
   "outputs": [
    {
     "data": {
      "text/plain": [
       "array([0, 1, 2, 2, 3, 4])"
      ]
     },
     "execution_count": 25,
     "metadata": {},
     "output_type": "execute_result"
    }
   ],
   "source": [
    "import numpy as np \n",
    "arr1 = np.array([[1, 2 , 3], [4, 5, 6], [7,8,9]])\n",
    "\n",
    "arr2 = np.array([1,2,3])\n",
    "out_num = np.subtract(arr1[0],arr2[0])\n",
    "out_num1 = np.subtract(arr1[1],arr2[1])\n",
    "out_num2 = np.subtract(arr1[2],arr2[2])\n",
    "np.concatenate((out_num,out_num1,out_num2), axis=0)"
   ]
  },
  {
   "cell_type": "markdown",
   "metadata": {},
   "source": [
    "Given a 1D Array, find the local maxima (numbers surrounded by 2 smaller numbers)"
   ]
  },
  {
   "cell_type": "code",
   "execution_count": 35,
   "metadata": {
    "scrolled": true
   },
   "outputs": [
    {
     "name": "stdout",
     "output_type": "stream",
     "text": [
      "[5]\n"
     ]
    }
   ],
   "source": [
    "import numpy as np \n",
    "from scipy.signal import argrelextrema\n",
    "arr1 = np.array([1, 3, 5, 3, 6])\n",
    "r = argrelextrema(arr1, np.greater)\n",
    "print(str(arr1[r[0]]))\n"
   ]
  },
  {
   "cell_type": "markdown",
   "metadata": {},
   "source": [
    "Given two n x m Arrays, compute the average of elements in matching subarrays\n",
    "\n",
    "Ex\n",
    "\n",
    "arr1      \n",
    "`[[1,1],[2,2],[3,3]]`\n",
    "\n",
    "arr2      \n",
    "`[[1,1],[2,2],[3,3]]`\n",
    "\n",
    "result:\n",
    "`[1,2,3]`\n",
    "\n"
   ]
  },
  {
   "cell_type": "code",
   "execution_count": 38,
   "metadata": {},
   "outputs": [
    {
     "name": "stdout",
     "output_type": "stream",
     "text": [
      "[1. 2. 3.]\n"
     ]
    }
   ],
   "source": [
    "import numpy as np \n",
    "arr1 = np.array([[1,1],[2,2],[3,3]])\n",
    "arr2 = np.array([[1,1],[2,2],[3,3]])\n",
    "\n",
    "r = np.mean(arr1, axis = 1)\n",
    "print(r)"
   ]
  },
  {
   "cell_type": "code",
   "execution_count": null,
   "metadata": {},
   "outputs": [],
   "source": []
  }
 ],
 "metadata": {
  "kernelspec": {
   "display_name": "Python 3 (ipykernel)",
   "language": "python",
   "name": "python3"
  },
  "language_info": {
   "codemirror_mode": {
    "name": "ipython",
    "version": 3
   },
   "file_extension": ".py",
   "mimetype": "text/x-python",
   "name": "python",
   "nbconvert_exporter": "python",
   "pygments_lexer": "ipython3",
   "version": "3.9.7"
  }
 },
 "nbformat": 4,
 "nbformat_minor": 4
}
